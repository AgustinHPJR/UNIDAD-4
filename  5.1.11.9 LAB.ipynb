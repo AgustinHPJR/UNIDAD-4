{
 "cells": [
  {
   "cell_type": "markdown",
   "metadata": {},
   "source": [
    "## 5.1.11.9 LAB\n",
    "\n",
    "## AGUSTIN HERNANDEZ PEREZ"
   ]
  },
  {
   "cell_type": "code",
   "execution_count": 1,
   "metadata": {},
   "outputs": [
    {
     "name": "stdout",
     "output_type": "stream",
     "text": [
      "Inserta la fecha de tu cumpleaños (en digitos): 26111998\n",
      "1\n"
     ]
    }
   ],
   "source": [
    "def DigitoDeLaVida(x):\n",
    "    sum = 0\n",
    "    \n",
    "    while x:\n",
    "        sum += x % 10\n",
    "        x //= 10\n",
    "    \n",
    "    if sum > 9:\n",
    "        return DigitoDeLaVida(sum)\n",
    "\n",
    "    return sum\n",
    "\n",
    "x = int(input(\"Inserta la fecha de tu cumpleaños (en digitos): \"))\n",
    "\n",
    "print(DigitoDeLaVida(x))"
   ]
  },
  {
   "cell_type": "code",
   "execution_count": null,
   "metadata": {},
   "outputs": [],
   "source": []
  }
 ],
 "metadata": {
  "kernelspec": {
   "display_name": "Python 3",
   "language": "python",
   "name": "python3"
  },
  "language_info": {
   "codemirror_mode": {
    "name": "ipython",
    "version": 3
   },
   "file_extension": ".py",
   "mimetype": "text/x-python",
   "name": "python",
   "nbconvert_exporter": "python",
   "pygments_lexer": "ipython3",
   "version": "3.8.3"
  }
 },
 "nbformat": 4,
 "nbformat_minor": 4
}
