{
 "cells": [
  {
   "cell_type": "markdown",
   "metadata": {},
   "source": [
    "##  5.1.11.7 LAB\n",
    "\n",
    "## AGUSTIN HERNANDEZ PEREZ"
   ]
  },
  {
   "cell_type": "code",
   "execution_count": 1,
   "metadata": {},
   "outputs": [
    {
     "name": "stdout",
     "output_type": "stream",
     "text": [
      "Escribe un texto: QUE ONDA\n",
      "No es un palíndromo.\n"
     ]
    }
   ],
   "source": [
    "texto = input(\"Escribe un texto: \")\n",
    "\n",
    "# Aquí se quitan los espacios (replace) y se convierte a minúsculas (lower).\n",
    "texto = texto.lower()\n",
    "texto = texto.replace(\" \", \"\")\n",
    "\n",
    "# Aquí se revierte el texto.\n",
    "textoInvertido = reversed(texto)\n",
    "\n",
    "# Aquí se comprueba si son o no palíndromos.\n",
    "if list(texto) == list(textoInvertido):\n",
    "    print(\"Es un palíndromo.\")\n",
    "else:\n",
    "    print(\"No es un palíndromo.\")"
   ]
  },
  {
   "cell_type": "code",
   "execution_count": null,
   "metadata": {},
   "outputs": [],
   "source": []
  }
 ],
 "metadata": {
  "kernelspec": {
   "display_name": "Python 3",
   "language": "python",
   "name": "python3"
  },
  "language_info": {
   "codemirror_mode": {
    "name": "ipython",
    "version": 3
   },
   "file_extension": ".py",
   "mimetype": "text/x-python",
   "name": "python",
   "nbconvert_exporter": "python",
   "pygments_lexer": "ipython3",
   "version": "3.8.3"
  }
 },
 "nbformat": 4,
 "nbformat_minor": 4
}
