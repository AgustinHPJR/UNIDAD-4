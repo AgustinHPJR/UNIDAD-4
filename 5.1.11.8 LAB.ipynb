{
 "cells": [
  {
   "cell_type": "markdown",
   "metadata": {},
   "source": [
    "## 5.1.11.8 LAB\n",
    "\n",
    "## AGUSTIN HERNANDEZ PEREZ"
   ]
  },
  {
   "cell_type": "code",
   "execution_count": 1,
   "metadata": {},
   "outputs": [
    {
     "name": "stdout",
     "output_type": "stream",
     "text": [
      "Escribe una palabra:MAS BIEN\n",
      "Escribe una segunda palabra: HOLA ¿COMO ESTAS?\n",
      "No es anagrama\n"
     ]
    }
   ],
   "source": [
    "palabra1 = input(\"Escribe una palabra:\")  \n",
    "palabra1 = palabra1.lower()\n",
    "palabra2 = input(\"Escribe una segunda palabra: \")\n",
    "palabra2 = palabra2.lower()\n",
    "\n",
    "str1 = sorted(palabra1)\n",
    "str2 = sorted(palabra2)\n",
    "\n",
    "if str1 == str2:\n",
    "    print(\"Anagrama\")\n",
    "else:\n",
    "    print(\"No es anagrama\")"
   ]
  },
  {
   "cell_type": "code",
   "execution_count": null,
   "metadata": {},
   "outputs": [],
   "source": []
  }
 ],
 "metadata": {
  "kernelspec": {
   "display_name": "Python 3",
   "language": "python",
   "name": "python3"
  },
  "language_info": {
   "codemirror_mode": {
    "name": "ipython",
    "version": 3
   },
   "file_extension": ".py",
   "mimetype": "text/x-python",
   "name": "python",
   "nbconvert_exporter": "python",
   "pygments_lexer": "ipython3",
   "version": "3.8.3"
  }
 },
 "nbformat": 4,
 "nbformat_minor": 4
}
